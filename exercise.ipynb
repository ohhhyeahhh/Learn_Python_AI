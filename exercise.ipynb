{
 "cells": [
  {
   "cell_type": "markdown",
   "id": "561911f5",
   "metadata": {},
   "source": [
    "## 例3.6 输入某年某月，判断该月的天数"
   ]
  },
  {
   "cell_type": "code",
   "execution_count": 1,
   "id": "4c531f4f",
   "metadata": {},
   "outputs": [
    {
     "name": "stdout",
     "output_type": "stream",
     "text": [
      "2024年4月有30天\n"
     ]
    }
   ],
   "source": [
    "# 输入年份和月份\n",
    "year = int(input(\"请输入年份：\"))\n",
    "month = int(input(\"请输入月份：\"))\n",
    "\n",
    "# 判断闰年函数\n",
    "def is_leap_year(y):\n",
    "    return (y % 4 == 0 and y % 100 != 0) or (y % 400 == 0)\n",
    "\n",
    "# 判断月份天数\n",
    "if month == 2:  # 2月\n",
    "    if is_leap_year(year):\n",
    "        days = 29\n",
    "    else:\n",
    "        days = 28\n",
    "elif month in [4, 6, 9, 11]:  # 小月\n",
    "    days = 30\n",
    "else:  # 大月\n",
    "    days = 31\n",
    "\n",
    "# 输出结果\n",
    "print(f\"{year}年{month}月有{days}天\")"
   ]
  }
 ],
 "metadata": {
  "kernelspec": {
   "display_name": "pytorch",
   "language": "python",
   "name": "python3"
  },
  "language_info": {
   "codemirror_mode": {
    "name": "ipython",
    "version": 3
   },
   "file_extension": ".py",
   "mimetype": "text/x-python",
   "name": "python",
   "nbconvert_exporter": "python",
   "pygments_lexer": "ipython3",
   "version": "3.13.5"
  }
 },
 "nbformat": 4,
 "nbformat_minor": 5
}
