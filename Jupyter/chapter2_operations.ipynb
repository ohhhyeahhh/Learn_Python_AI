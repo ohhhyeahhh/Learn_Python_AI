{
 "cells": [
  {
   "cell_type": "markdown",
   "id": "4d5ae7a0-4306-4794-8644-615995c74fa8",
   "metadata": {},
   "source": [
    "# Python 第二章 基础知识总结"
   ]
  },
  {
   "cell_type": "markdown",
   "id": "721abaf8-cb91-4c2a-bde6-a06d1b10e6e4",
   "metadata": {},
   "source": [
    "## 1. 算术、关系、逻辑运算"
   ]
  },
  {
   "cell_type": "markdown",
   "id": "1024fa56-b8a1-44e0-9aea-642d086bc6b5",
   "metadata": {},
   "source": [
    "### 算术运算"
   ]
  },
  {
   "cell_type": "code",
   "execution_count": 1,
   "id": "8f8bc721-5125-4f47-858b-8d57a3d15577",
   "metadata": {},
   "outputs": [
    {
     "name": "stdout",
     "output_type": "stream",
     "text": [
      "加法: 13\n",
      "减法: 7\n",
      "乘法: 30\n",
      "除法: 3.3333333333333335\n",
      "整除: 3\n",
      "取余: 1\n",
      "幂运算: 1000\n"
     ]
    }
   ],
   "source": [
    "# 基本算术运算\n",
    "a = 10\n",
    "b = 3\n",
    "\n",
    "print(\"加法:\", a + b)        # 13\n",
    "print(\"减法:\", a - b)        # 7\n",
    "print(\"乘法:\", a * b)        # 30\n",
    "print(\"除法:\", a / b)        # 3.333...\n",
    "print(\"整除:\", a // b)       # 3\n",
    "print(\"取余:\", a % b)        # 1\n",
    "print(\"幂运算:\", a ** b)     # 1000"
   ]
  },
  {
   "cell_type": "markdown",
   "id": "88af4bc8-3fd6-4318-8cf3-0f88d29f2cf4",
   "metadata": {},
   "source": [
    "### 关系运算"
   ]
  },
  {
   "cell_type": "code",
   "execution_count": null,
   "id": "bf90c0e7-2a72-4437-9267-e0b624acdd62",
   "metadata": {},
   "outputs": [],
   "source": [
    "x = 5\n",
    "y = 8\n",
    "\n",
    "print(\"等于:\", x == y)       # False\n",
    "print(\"不等于:\", x != y)     # True\n",
    "print(\"大于:\", x > y)        # False\n",
    "print(\"小于:\", x < y)        # True\n",
    "print(\"大于等于:\", x >= y)   # False\n",
    "print(\"小于等于:\", x <= y)   # True"
   ]
  },
  {
   "cell_type": "markdown",
   "id": "6c52dfa8-d693-470d-9e39-3b841a1456a2",
   "metadata": {},
   "source": [
    "### 逻辑运算"
   ]
  },
  {
   "cell_type": "code",
   "execution_count": 2,
   "id": "5808b2bc-d7d5-4f2f-accb-bb8f449e9d09",
   "metadata": {},
   "outputs": [
    {
     "name": "stdout",
     "output_type": "stream",
     "text": [
      "与运算: False\n",
      "或运算: True\n",
      "非运算: False\n",
      "可以开车: True\n"
     ]
    }
   ],
   "source": [
    "a = True\n",
    "b = False\n",
    "\n",
    "print(\"与运算:\", a and b)    # False\n",
    "print(\"或运算:\", a or b)     # True\n",
    "print(\"非运算:\", not a)      # False\n",
    "\n",
    "# 实际应用\n",
    "age = 20\n",
    "has_license = True\n",
    "\n",
    "can_drive = age >= 18 and has_license\n",
    "print(\"可以开车:\", can_drive)  # True"
   ]
  },
  {
   "cell_type": "markdown",
   "id": "2a777cb1-1fe6-4a7a-b59d-52e626290041",
   "metadata": {},
   "source": [
    "### 数值型数据的常用函数\n",
    "\n",
    "### 若要使用常用函数，需要讲函数包导入项目，导入方法如下：\n",
    "import math"
   ]
  },
  {
   "cell_type": "code",
   "execution_count": null,
   "id": "31dc2b4a-91f9-46fe-abea-c00cf70a3236",
   "metadata": {},
   "outputs": [],
   "source": [
    "# 数学函数\n",
    "import math\n",
    "\n",
    "num = -15.75\n",
    "print(\"绝对值:\", abs(num))           # 15.75\n",
    "print(\"四舍五入:\", round(3.14159, 2)) # 3.14\n",
    "print(\"向上取整:\", math.ceil(4.2))   # 5\n",
    "print(\"向下取整:\", math.floor(4.9))  # 4\n",
    "print(\"最大值:\", max(1, 5, 3, 9))    # 9\n",
    "print(\"最小值:\", min(1, 5, 3, 9))    # 1\n",
    "print(\"平方根:\", math.sqrt(16))      # 4.0\n",
    "print(\"幂运算:\", pow(2, 3))          # 8\n",
    "\n",
    "# 类型转换\n",
    "print(\"转整数:\", int(\"123\"))         # 123\n",
    "print(\"转浮点数:\", float(\"3.14\"))    # 3.14\n",
    "print(\"转字符串:\", str(100))         # \"100\""
   ]
  },
  {
   "cell_type": "markdown",
   "id": "520c4db7-ea10-41eb-b930-a6e32bff9ed6",
   "metadata": {},
   "source": [
    "### 常用模块"
   ]
  },
  {
   "cell_type": "code",
   "execution_count": 3,
   "id": "0b689e67-f1a5-46e6-b954-0a1d481c57ba",
   "metadata": {},
   "outputs": [
    {
     "name": "stdout",
     "output_type": "stream",
     "text": [
      "圆周率: 3.141592653589793\n",
      "自然常数: 2.718281828459045\n",
      "正弦值: 1.0\n",
      "对数: 2.0\n",
      "随机整数: 1\n",
      "随机浮点数: 0.7285371748894557\n",
      "随机选择: c\n"
     ]
    }
   ],
   "source": [
    "import math\n",
    "import random\n",
    "\n",
    "# math模块\n",
    "print(\"圆周率:\", math.pi)\n",
    "print(\"自然常数:\", math.e)\n",
    "print(\"正弦值:\", math.sin(math.pi/2))\n",
    "print(\"对数:\", math.log(100, 10))\n",
    "\n",
    "# random模块\n",
    "print(\"随机整数:\", random.randint(1, 10))\n",
    "print(\"随机浮点数:\", random.random())\n",
    "print(\"随机选择:\", random.choice(['a', 'b', 'c']))\n"
   ]
  },
  {
   "cell_type": "markdown",
   "id": "c8a06e89-af70-4c1c-85ef-de0196927df2",
   "metadata": {},
   "source": [
    "### 字符串：索引与切片"
   ]
  },
  {
   "cell_type": "code",
   "execution_count": null,
   "id": "2abe1743-d11e-45f9-8f87-6ba71366e0f6",
   "metadata": {},
   "outputs": [],
   "source": [
    "text = \"Hello, Python!\"\n",
    "\n",
    "# 索引\n",
    "print(\"第一个字符:\", text[0])        # H\n",
    "print(\"最后一个字符:\", text[-1])     # !\n",
    "print(\"倒数第二个字符:\", text[-2])   # n\n",
    "\n",
    "# 切片 [start:end:step]\n",
    "print(\"前5个字符:\", text[0:5])      # Hello\n",
    "print(\"从第7个开始:\", text[7:])     # Python!\n",
    "print(\"每隔一个字符:\", text[::2])   # Hlo yhn\n",
    "print(\"反转字符串:\", text[::-1])    # !nohtyP ,olleH"
   ]
  },
  {
   "cell_type": "markdown",
   "id": "39749c39-959d-4599-bb8f-5793010f5a33",
   "metadata": {},
   "source": [
    "## 字符串操作"
   ]
  },
  {
   "cell_type": "code",
   "execution_count": null,
   "id": "a0e3d9ba-07c1-4088-86c6-13286d42fe10",
   "metadata": {},
   "outputs": [],
   "source": [
    "text = \"Hello, Python!\"\n",
    "\n",
    "# 索引\n",
    "print(\"第一个字符:\", text[0])        # H\n",
    "print(\"最后一个字符:\", text[-1])     # !\n",
    "print(\"倒数第二个字符:\", text[-2])   # n\n",
    "\n",
    "# 切片 [start:end:step]\n",
    "print(\"前5个字符:\", text[0:5])      # Hello\n",
    "print(\"从第7个开始:\", text[7:])     # Python!\n",
    "print(\"每隔一个字符:\", text[::2])   # Hlo yhn\n",
    "print(\"反转字符串:\", text[::-1])    # !nohtyP ,olleH"
   ]
  },
  {
   "cell_type": "markdown",
   "id": "2a94dc1b-54fd-4bfc-a3f1-4bbad4866841",
   "metadata": {},
   "source": [
    "字符串运算符"
   ]
  },
  {
   "cell_type": "code",
   "execution_count": null,
   "id": "088c4367-94be-4596-ade7-1c0eac3f114c",
   "metadata": {},
   "outputs": [],
   "source": [
    "str1 = \"Hello\"\n",
    "str2 = \"World\"\n",
    "\n",
    "# 连接\n",
    "print(\"连接:\", str1 + \" \" + str2)  # Hello World\n",
    "\n",
    "# 重复\n",
    "print(\"重复:\", str1 * 3)           # HelloHelloHello\n",
    "\n",
    "# 成员检测\n",
    "print(\"包含检测:\", \"ell\" in str1)  # True\n",
    "print(\"不包含检测:\", \"xyz\" not in str1)  # True\n",
    "\n",
    "# 格式化\n",
    "name = \"Alice\"\n",
    "age = 25\n",
    "print(f\"格式化: {name} is {age} years old\")  # Alice is 25 years old"
   ]
  },
  {
   "cell_type": "markdown",
   "id": "021435b4-82fa-497d-b36b-6f66cfc1f082",
   "metadata": {},
   "source": [
    "# 字符串常用方法"
   ]
  },
  {
   "cell_type": "markdown",
   "id": "3d2d9dbd-efbf-47a9-bca5-cc98b1d2fdf2",
   "metadata": {},
   "source": [
    "### 查找方法"
   ]
  },
  {
   "cell_type": "code",
   "execution_count": null,
   "id": "75961ffd-6bd9-4cf7-a42e-35b0ddbbe3a1",
   "metadata": {},
   "outputs": [],
   "source": [
    "text = \"Hello, Python Programming\"\n",
    "\n",
    "# 查找子字符串\n",
    "print(\"查找Python:\", text.find(\"Python\"))     # 7\n",
    "print(\"查找位置:\", text.index(\"Pro\"))         # 14\n",
    "print(\"从右边查找:\", text.rfind(\"o\"))         # 19\n",
    "print(\"统计出现次数:\", text.count(\"o\"))       # 3\n",
    "\n",
    "# 检查开头和结尾\n",
    "print(\"以Hello开头:\", text.startswith(\"Hello\"))  # True\n",
    "print(\"以ing结尾:\", text.endswith(\"ing\"))        # True"
   ]
  },
  {
   "cell_type": "markdown",
   "id": "5210d7a2-e353-46f2-8998-29d486d49459",
   "metadata": {},
   "source": [
    "### 分割方法"
   ]
  },
  {
   "cell_type": "code",
   "execution_count": null,
   "id": "c14cf72e-7c39-4285-8556-ae870694a9c8",
   "metadata": {},
   "outputs": [],
   "source": [
    "data = \"apple,banana,orange,grape\"\n",
    "\n",
    "# 分割字符串\n",
    "fruits = data.split(\",\")\n",
    "print(\"分割结果:\", fruits)  # ['apple', 'banana', 'orange', 'grape']\n",
    "\n",
    "# 限制分割次数\n",
    "limited_split = data.split(\",\", 2)\n",
    "print(\"限制分割:\", limited_split)  # ['apple', 'banana', 'orange,grape']\n",
    "\n",
    "# 按行分割\n",
    "multiline = \"第一行\\n第二行\\n第三行\"\n",
    "lines = multiline.splitlines()\n",
    "print(\"按行分割:\", lines)  # ['第一行', '第二行', '第三行']"
   ]
  },
  {
   "cell_type": "markdown",
   "id": "8d7b800e-c40e-4551-a566-cf3e234eb349",
   "metadata": {},
   "source": [
    "### 拼接方法"
   ]
  },
  {
   "cell_type": "code",
   "execution_count": null,
   "id": "92fd876f-eb4e-4810-a243-09a933a5fccb",
   "metadata": {},
   "outputs": [],
   "source": [
    "# 连接列表中的字符串\n",
    "fruits = ['apple', 'banana', 'orange']\n",
    "result = \", \".join(fruits)\n",
    "print(\"连接结果:\", result)  # apple, banana, orange\n",
    "\n",
    "# 其他连接方式\n",
    "words = [\"Python\", \"is\", \"awesome\"]\n",
    "sentence = \" \".join(words)\n",
    "print(\"句子:\", sentence)  # Python is awesome"
   ]
  },
  {
   "cell_type": "markdown",
   "id": "196b49ba-e0b1-4420-90d8-bc203b0e5e78",
   "metadata": {},
   "source": [
    "### 其他常用方法(不考)"
   ]
  },
  {
   "cell_type": "code",
   "execution_count": null,
   "id": "78848792-9a64-4437-8ce9-7385dd8c7082",
   "metadata": {},
   "outputs": [],
   "source": [
    "text = \"  hello, Python!  \"\n",
    "\n",
    "# 大小写转换\n",
    "print(\"大写:\", text.upper())           # \"  HELLO, PYTHON!  \"\n",
    "print(\"小写:\", text.lower())           # \"  hello, python!  \"\n",
    "print(\"首字母大写:\", text.capitalize()) # \"  hello, python!  \"\n",
    "print(\"每个单词首字母大写:\", \"hello world\".title())  # \"Hello World\"\n",
    "\n",
    "# 去除空白\n",
    "print(\"去除两边空格:\", text.strip())    # \"hello, Python!\"\n",
    "print(\"去除左边空格:\", text.lstrip())   # \"hello, Python!  \"\n",
    "print(\"去除右边空格:\", text.rstrip())   # \"  hello, Python!\"\n",
    "\n",
    "# 替换\n",
    "print(\"替换:\", text.replace(\"Python\", \"Java\"))  # \"  hello, Java!  \"\n",
    "\n",
    "# 检查内容\n",
    "print(\"是否全为字母:\", \"abc\".isalpha())        # True\n",
    "print(\"是否全为数字:\", \"123\".isdigit())        # True\n",
    "print(\"是否全为字母数字:\", \"abc123\".isalnum()) # True\n",
    "print(\"是否全为空格:\", \"   \".isspace())        # True"
   ]
  },
  {
   "cell_type": "code",
   "execution_count": null,
   "id": "ff59321b-83b6-4a84-8aa4-deeecff60c3e",
   "metadata": {},
   "outputs": [],
   "source": []
  }
 ],
 "metadata": {
  "kernelspec": {
   "display_name": "Python (myenv)",
   "language": "python",
   "name": "py39"
  },
  "language_info": {
   "codemirror_mode": {
    "name": "ipython",
    "version": 3
   },
   "file_extension": ".py",
   "mimetype": "text/x-python",
   "name": "python",
   "nbconvert_exporter": "python",
   "pygments_lexer": "ipython3",
   "version": "3.10.10"
  }
 },
 "nbformat": 4,
 "nbformat_minor": 5
}
