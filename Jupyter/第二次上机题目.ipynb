{
 "cells": [
  {
   "cell_type": "markdown",
   "id": "e330ad0f-ef87-44a7-9a88-9cd25400b8ff",
   "metadata": {},
   "source": [
    "# Python第二次上机实验练习题"
   ]
  },
  {
   "cell_type": "markdown",
   "id": "455f9092-3d16-41d5-978a-98b93d82e3c1",
   "metadata": {},
   "source": [
    "\n",
    "## 题目1：基础切片操作\n",
    "\n",
    "**题目说明**：使用循环结构计算1到100之间所有偶数的和，并输出结果。\n",
    "**题目说明**：给定字符串 s = \"Python Programming\"，请完成以下切片操作：\n",
    "\n",
    "- 获取前6个字符\n",
    "- 获取从第7个字符开始到结尾\n",
    "- 获取\"Programming\"\n",
    "- 获取每隔一个字符的字符串\n",
    "- 获取倒序字符串\n",
    "\n"
   ]
  },
  {
   "cell_type": "code",
   "execution_count": null,
   "id": "682dcf37-3cb3-4d5e-bd22-857a68f33d9f",
   "metadata": {},
   "outputs": [],
   "source": []
  },
  {
   "cell_type": "markdown",
   "id": "5fb49084-05de-429e-a4a3-d80a22ec369a",
   "metadata": {},
   "source": [
    "\n",
    "## 题目2：提取文件信息\n",
    "\n",
    "**题目说明：** 给定文件路径 path = \"C:/Users/Name/Documents/report_2023.pdf\"，请使用切片提取：\n",
    "\n",
    "- 文件扩展名\n",
    "- 文件名（不含扩展名）\n",
    "- 文件所在目录\n",
    "- 文件年份\n"
   ]
  },
  {
   "cell_type": "code",
   "execution_count": null,
   "id": "16877242-d839-4687-9563-c9ac22a4b178",
   "metadata": {},
   "outputs": [],
   "source": []
  },
  {
   "cell_type": "markdown",
   "id": "d7233448-5fc3-49bc-9aae-1d27674e9e8c",
   "metadata": {},
   "source": [
    "\n",
    "\n",
    "## 题目3：复杂切片应用\n",
    "\n",
    "**题目说明：** 给定字符串 text = \"a1b2c3d4e5f6g7h8i9j0\"，请完成以下操作：\n",
    "\n",
    "- 提取所有字母\n",
    "- 提取所有数字\n",
    "- 提取奇数位置的字符\n",
    "- 提取偶数位置的字符\n",
    "- 将字符串分成两部分并交换位置\n"
   ]
  },
  {
   "cell_type": "code",
   "execution_count": null,
   "id": "eb5b506d-908c-4188-90b9-505210ef97f6",
   "metadata": {},
   "outputs": [],
   "source": []
  },
  {
   "cell_type": "markdown",
   "id": "b092df96-a8ee-482c-ac14-b2e05daa5338",
   "metadata": {},
   "source": [
    "\n",
    "## 题目4：计算1到100之间所有偶数的和\n",
    "\n",
    "**题目说明**：使用循环结构计算1到100之间所有偶数的和，并输出结果。\n",
    "\n",
    "\n"
   ]
  },
  {
   "cell_type": "code",
   "execution_count": null,
   "id": "7ceeb4aa-5e24-411b-a045-8bc722a2fc26",
   "metadata": {},
   "outputs": [],
   "source": []
  },
  {
   "cell_type": "markdown",
   "id": "7d8b566b-729d-4a32-9c2e-d9b48cc1b789",
   "metadata": {},
   "source": [
    "\n",
    "## 题目5：判断素数\n",
    "\n",
    "**题目说明**：输入一个整数，判断该数是否为素数（质数）。素数是只能被1和自身整除的大于1的自然数。\n"
   ]
  },
  {
   "cell_type": "code",
   "execution_count": null,
   "id": "51187b9d-e35b-49b5-97e2-ff305e12ce3c",
   "metadata": {},
   "outputs": [],
   "source": []
  },
  {
   "cell_type": "markdown",
   "id": "e507c7f3-3a55-4de0-a393-ad11d1c85587",
   "metadata": {},
   "source": [
    "\n",
    "## 题目6：判断闰年\n",
    "\n",
    "**题目说明**：输入一个年份，判断该年份是否为闰年。闰年规则：\n",
    "- 能被4整除但不能被100整除，或者\n",
    "- 能被400整除\n"
   ]
  },
  {
   "cell_type": "code",
   "execution_count": null,
   "id": "f065fa84-416c-457d-947a-557d113c8b9c",
   "metadata": {},
   "outputs": [],
   "source": []
  },
  {
   "cell_type": "markdown",
   "id": "0d4fe94e-3830-4c12-a92f-5b0f6834fa8b",
   "metadata": {},
   "source": [
    "\n",
    "## 题目7：打印九九乘法表\n",
    "\n",
    "**题目说明**：使用循环嵌套打印出完整的九九乘法表，要求格式整齐。\n",
    "\n",
    "\n",
    "整齐格式的九九乘法表:\n",
    "\n",
    "1×1= 1                                                                  \n",
    "1×2= 2  2×2= 4                                                          \n",
    "1×3= 3  2×3= 6  3×3= 9                                                  \n",
    "1×4= 4  2×4= 8  3×4=12  4×4=16                                          \n",
    "1×5= 5  2×5=10  3×5=15  4×5=20  5×5=25                                  \n",
    "1×6= 6  2×6=12  3×6=18  4×6=24  5×6=30  6×6=36                          \n",
    "1×7= 7  2×7=14  3×7=21  4×7=28  5×7=35  6×7=42  7×7=49                  \n",
    "1×8= 8  2×8=16  3×8=24  4×8=32  5×8=40  6×8=48  7×8=56  8×8=64          \n",
    "1×9= 9  2×9=18  3×9=27  4×9=36  5×9=45  6×9=54  7×9=63  8×9=72  9×9=81 "
   ]
  },
  {
   "cell_type": "code",
   "execution_count": null,
   "id": "54890017-11eb-4a58-a34d-e8a0c125e2ea",
   "metadata": {},
   "outputs": [],
   "source": []
  },
  {
   "cell_type": "markdown",
   "id": "72fd809b-40c2-4b24-93ba-f8cdff1c5237",
   "metadata": {},
   "source": [
    "\n",
    "## 题目8：统计字符串中各类字符个数\n",
    "\n",
    "**题目说明**：输入一个字符串，统计其中数字、字母、空格和其他字符的个数。\n"
   ]
  },
  {
   "cell_type": "code",
   "execution_count": null,
   "id": "c725ee3b-2fd2-4c74-913c-df5f4d2ed298",
   "metadata": {},
   "outputs": [],
   "source": []
  }
 ],
 "metadata": {
  "kernelspec": {
   "display_name": "Python (myenv)",
   "language": "python",
   "name": "py39"
  },
  "language_info": {
   "codemirror_mode": {
    "name": "ipython",
    "version": 3
   },
   "file_extension": ".py",
   "mimetype": "text/x-python",
   "name": "python",
   "nbconvert_exporter": "python",
   "pygments_lexer": "ipython3",
   "version": "3.10.10"
  }
 },
 "nbformat": 4,
 "nbformat_minor": 5
}
