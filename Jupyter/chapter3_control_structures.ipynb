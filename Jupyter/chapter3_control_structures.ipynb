{
 "cells": [
  {
   "cell_type": "markdown",
   "metadata": {},
   "source": [
    "# Python 条件表达式、选择结构和循环结构详解\n",
    "\n",
    "## 1. 条件表达式\n",
    "\n",
    "条件表达式也称为三元运算符，用于简化简单的 if-else 结构。"
   ]
  },
  {
   "cell_type": "markdown",
   "metadata": {},
   "source": [
    "### 语法：\n",
    "```python\n",
    "value_if_true if condition else value_if_false\n",
    "```"
   ]
  },
  {
   "cell_type": "code",
   "execution_count": null,
   "metadata": {},
   "outputs": [],
   "source": [
    "# 传统写法\n",
    "age = 18\n",
    "if age >= 18:\n",
    "    status = \"成年人\"\n",
    "else:\n",
    "    status = \"未成年人\"\n",
    "\n",
    "# 使用条件表达式\n",
    "status = \"成年人\" if age >= 18 else \"未成年人\"\n",
    "print(status)  # 输出：成年人"
   ]
  },
  {
   "cell_type": "code",
   "execution_count": null,
   "metadata": {},
   "outputs": [],
   "source": [
    "# 另一个例子\n",
    "score = 85\n",
    "result = \"及格\" if score >= 60 else \"不及格\"\n",
    "print(result)  # 输出：及格"
   ]
  },
  {
   "cell_type": "code",
   "execution_count": null,
   "metadata": {},
   "outputs": [],
   "source": [
    "# 在函数中使用\n",
    "def get_grade(score):\n",
    "    return \"优秀\" if score >= 90 else \"良好\" if score >= 80 else \"及格\" if score >= 60 else \"不及格\"\n",
    "\n",
    "print(get_grade(95))  # 输出：优秀\n",
    "print(get_grade(75))  # 输出：及格\n",
    "print(get_grade(55))  # 输出：不及格"
   ]
  },
  {
   "cell_type": "markdown",
   "metadata": {},
   "source": [
    "## 2. 选择结构\n",
    "\n",
    "### 2.1 单分支结构 (if)"
   ]
  },
  {
   "cell_type": "code",
   "execution_count": null,
   "metadata": {},
   "outputs": [],
   "source": [
    "# 基本语法\n",
    "# if condition:\n",
    "#     # 执行语句\n",
    "\n",
    "# 示例\n",
    "temperature = 35\n",
    "if temperature > 30:\n",
    "    print(\"天气很热，注意防暑！\")\n",
    "\n",
    "# 检查数字是否为偶数\n",
    "num = 10\n",
    "if num % 2 == 0:\n",
    "    print(f\"{num} 是偶数\")"
   ]
  },
  {
   "cell_type": "markdown",
   "metadata": {},
   "source": [
    "### 2.2 双分支结构 (if-else)"
   ]
  },
  {
   "cell_type": "code",
   "execution_count": null,
   "metadata": {},
   "outputs": [],
   "source": [
    "# 基本语法\n",
    "# if condition:\n",
    "#     # 条件为真时执行\n",
    "# else:\n",
    "#     # 条件为假时执行\n",
    "\n",
    "# 示例\n",
    "age = 16\n",
    "if age >= 18:\n",
    "    print(\"可以进入网吧\")\n",
    "else:\n",
    "    print(\"未成年人禁止进入网吧\")\n",
    "\n",
    "# 判断数字正负\n",
    "number = -5\n",
    "if number >= 0:\n",
    "    print(f\"{number} 是正数或零\")\n",
    "else:\n",
    "    print(f\"{number} 是负数\")"
   ]
  },
  {
   "cell_type": "markdown",
   "metadata": {},
   "source": [
    "### 2.3 多分支结构 (if-elif-else)"
   ]
  },
  {
   "cell_type": "code",
   "execution_count": null,
   "metadata": {},
   "outputs": [],
   "source": [
    "# 基本语法\n",
    "# if condition1:\n",
    "#     # 条件1为真时执行\n",
    "# elif condition2:\n",
    "#     # 条件2为真时执行\n",
    "# elif condition3:\n",
    "#     # 条件3为真时执行\n",
    "# else:\n",
    "#     # 所有条件都为假时执行\n",
    "\n",
    "# 示例：成绩等级判断\n",
    "score = 78\n",
    "\n",
    "if score >= 90:\n",
    "    grade = \"A\"\n",
    "elif score >= 80:\n",
    "    grade = \"B\"\n",
    "elif score >= 70:\n",
    "    grade = \"C\"\n",
    "elif score >= 60:\n",
    "    grade = \"D\"\n",
    "else:\n",
    "    grade = \"F\"\n",
    "\n",
    "print(f\"分数：{score}，等级：{grade}\")  # 输出：分数：78，等级：C"
   ]
  },
  {
   "cell_type": "code",
   "execution_count": null,
   "metadata": {},
   "outputs": [],
   "source": [
    "# 另一个例子：根据月份判断季节\n",
    "month = 3\n",
    "if month in [12, 1, 2]:\n",
    "    season = \"冬季\"\n",
    "elif month in [3, 4, 5]:\n",
    "    season = \"春季\"\n",
    "elif month in [6, 7, 8]:\n",
    "    season = \"夏季\"\n",
    "elif month in [9, 10, 11]:\n",
    "    season = \"秋季\"\n",
    "else:\n",
    "    season = \"无效月份\"\n",
    "\n",
    "print(f\"{month}月是{season}\")"
   ]
  },
  {
   "cell_type": "markdown",
   "metadata": {},
   "source": [
    "### 2.4 选择嵌套"
   ]
  },
  {
   "cell_type": "code",
   "execution_count": null,
   "metadata": {},
   "outputs": [],
   "source": [
    "# 示例：判断闰年并给出天数\n",
    "year = 2024\n",
    "month = 2\n",
    "\n",
    "if month in [1, 3, 5, 7, 8, 10, 12]:\n",
    "    days = 31\n",
    "elif month in [4, 6, 9, 11]:\n",
    "    days = 30\n",
    "elif month == 2:\n",
    "    # 嵌套判断闰年\n",
    "    if (year % 4 == 0 and year % 100 != 0) or (year % 400 == 0):\n",
    "        days = 29\n",
    "    else:\n",
    "        days = 28\n",
    "else:\n",
    "    days = 0\n",
    "\n",
    "print(f\"{year}年{month}月有{days}天\")"
   ]
  },
  {
   "cell_type": "code",
   "execution_count": null,
   "metadata": {},
   "outputs": [],
   "source": [
    "# 另一个例子：用户权限检查\n",
    "is_logged_in = True\n",
    "is_admin = False\n",
    "is_premium = True\n",
    "\n",
    "if is_logged_in:\n",
    "    if is_admin:\n",
    "        print(\"欢迎管理员！您有所有权限。\")\n",
    "    elif is_premium:\n",
    "        print(\"欢迎尊贵会员！您有高级权限。\")\n",
    "    else:\n",
    "        print(\"欢迎普通用户！您有基本权限。\")\n",
    "else:\n",
    "    print(\"请先登录！\")"
   ]
  },
  {
   "cell_type": "markdown",
   "metadata": {},
   "source": [
    "## 3. 循环结构\n",
    "\n",
    "### 3.1 for 循环"
   ]
  },
  {
   "cell_type": "code",
   "execution_count": null,
   "metadata": {},
   "outputs": [],
   "source": [
    "# 基本语法\n",
    "# for item in sequence:\n",
    "#     # 循环体\n",
    "\n",
    "# 示例1：遍历列表\n",
    "fruits = [\"苹果\", \"香蕉\", \"橙子\", \"葡萄\"]\n",
    "for fruit in fruits:\n",
    "    print(f\"我喜欢吃{fruit}\")"
   ]
  },
  {
   "cell_type": "code",
   "execution_count": null,
   "metadata": {},
   "outputs": [],
   "source": [
    "# 示例2：使用range()\n",
    "# 打印1-10的数字\n",
    "for i in range(1, 11):\n",
    "    print(i, end=\" \")\n",
    "print()  # 换行\n",
    "\n",
    "# 计算1-100的和\n",
    "total = 0\n",
    "for i in range(1, 101):\n",
    "    total += i\n",
    "print(f\"1-100的和是：{total}\")"
   ]
  },
  {
   "cell_type": "code",
   "execution_count": null,
   "metadata": {},
   "outputs": [],
   "source": [
    "# 示例3：遍历字典\n",
    "student_scores = {\"张三\": 85, \"李四\": 92, \"王五\": 78}\n",
    "for name, score in student_scores.items():\n",
    "    print(f\"{name}的成绩是：{score}\")"
   ]
  },
  {
   "cell_type": "markdown",
   "metadata": {},
   "source": [
    "### 3.2 while 循环"
   ]
  },
  {
   "cell_type": "code",
   "execution_count": null,
   "metadata": {},
   "outputs": [],
   "source": [
    "# 基本语法\n",
    "# while condition:\n",
    "#     # 循环体\n",
    "\n",
    "# 示例1：计数器\n",
    "count = 1\n",
    "while count <= 5:\n",
    "    print(f\"这是第{count}次循环\")\n",
    "    count += 1"
   ]
  },
  {
   "cell_type": "code",
   "execution_count": null,
   "metadata": {},
   "outputs": [],
   "source": [
    "# 示例2：用户输入验证\n",
    "password = \"\"\n",
    "while password != \"123456\":\n",
    "    password = input(\"请输入密码：\")\n",
    "    if password != \"123456\":\n",
    "        print(\"密码错误，请重新输入！\")\n",
    "print(\"登录成功！\")"
   ]
  },
  {
   "cell_type": "code",
   "execution_count": null,
   "metadata": {},
   "outputs": [],
   "source": [
    "# 示例3：计算阶乘\n",
    "n = 5\n",
    "factorial = 1\n",
    "i = 1\n",
    "while i <= n:\n",
    "    factorial *= i\n",
    "    i += 1\n",
    "print(f\"{n}的阶乘是：{factorial}\")"
   ]
  },
  {
   "cell_type": "markdown",
   "metadata": {},
   "source": [
    "### 3.3 循环嵌套"
   ]
  },
  {
   "cell_type": "code",
   "execution_count": null,
   "metadata": {},
   "outputs": [],
   "source": [
    "# 示例1：打印九九乘法表\n",
    "print(\"九九乘法表：\")\n",
    "for i in range(1, 10):\n",
    "    for j in range(1, i + 1):\n",
    "        print(f\"{j}×{i}={i*j}\", end=\"\\t\")\n",
    "    print()  # 换行"
   ]
  },
  {
   "cell_type": "code",
   "execution_count": null,
   "metadata": {},
   "outputs": [],
   "source": [
    "# 示例2：二维列表遍历\n",
    "matrix = [\n",
    "    [1, 2, 3],\n",
    "    [4, 5, 6],\n",
    "    [7, 8, 9]\n",
    "]\n",
    "\n",
    "print(\"矩阵元素：\")\n",
    "for row in matrix:\n",
    "    for element in row:\n",
    "        print(element, end=\" \")\n",
    "    print()"
   ]
  },
  {
   "cell_type": "code",
   "execution_count": null,
   "metadata": {},
   "outputs": [],
   "source": [
    "# 示例3：寻找质数\n",
    "print(\"100以内的质数：\")\n",
    "for num in range(2, 101):\n",
    "    is_prime = True\n",
    "    for i in range(2, int(num**0.5) + 1):\n",
    "        if num % i == 0:\n",
    "            is_prime = False\n",
    "            break\n",
    "    if is_prime:\n",
    "        print(num, end=\" \")\n",
    "print()"
   ]
  },
  {
   "cell_type": "markdown",
   "metadata": {},
   "source": [
    "### 3.4 break 语句"
   ]
  },
  {
   "cell_type": "code",
   "execution_count": null,
   "metadata": {},
   "outputs": [],
   "source": [
    "# 示例1：在列表中查找元素\n",
    "numbers = [1, 3, 5, 7, 9, 2, 4, 6, 8]\n",
    "target = 5\n",
    "found = False\n",
    "\n",
    "for num in numbers:\n",
    "    if num == target:\n",
    "        found = True\n",
    "        print(f\"找到了目标数字 {target}\")\n",
    "        break\n",
    "\n",
    "if not found:\n",
    "    print(f\"没有找到目标数字 {target}\")"
   ]
  },
  {
   "cell_type": "code",
   "execution_count": null,
   "metadata": {},
   "outputs": [],
   "source": [
    "# 示例2：用户输入直到输入quit\n",
    "while True:\n",
    "    user_input = input(\"请输入内容（输入quit退出）：\")\n",
    "    if user_input.lower() == \"quit\":\n",
    "        print(\"程序结束！\")\n",
    "        break\n",
    "    print(f\"您输入了：{user_input}\")"
   ]
  },
  {
   "cell_type": "markdown",
   "metadata": {},
   "source": [
    "### 3.5 continue 语句"
   ]
  },
  {
   "cell_type": "code",
   "execution_count": null,
   "metadata": {},
   "outputs": [],
   "source": [
    "# 示例1：跳过奇数，只处理偶数\n",
    "print(\"1-10中的偶数：\")\n",
    "for i in range(1, 11):\n",
    "    if i % 2 != 0:\n",
    "        continue  # 跳过奇数\n",
    "    print(i, end=\" \")\n",
    "print()"
   ]
  },
  {
   "cell_type": "code",
   "execution_count": null,
   "metadata": {},
   "outputs": [],
   "source": [
    "# 示例2：处理列表中的有效数据\n",
    "data = [10, 0, 25, -5, 30, 0, 15]\n",
    "print(\"有效数据的倒数：\")\n",
    "for num in data:\n",
    "    if num <= 0:\n",
    "        continue  # 跳过无效数据\n",
    "    print(f\"1/{num} = {1/num:.3f}\")"
   ]
  },
  {
   "cell_type": "markdown",
   "metadata": {},
   "source": [
    "### 3.6 else 子句"
   ]
  },
  {
   "cell_type": "code",
   "execution_count": null,
   "metadata": {},
   "outputs": [],
   "source": [
    "# for循环的else子句\n",
    "# 当循环正常完成（没有被break中断）时执行\n",
    "\n",
    "# 示例1：检查质数\n",
    "num = 17\n",
    "for i in range(2, int(num**0.5) + 1):\n",
    "    if num % i == 0:\n",
    "        print(f\"{num} 不是质数\")\n",
    "        break\n",
    "else:\n",
    "    print(f\"{num} 是质数\")"
   ]
  },
  {
   "cell_type": "code",
   "execution_count": null,
   "metadata": {},
   "outputs": [],
   "source": [
    "# 示例2：在列表中查找元素\n",
    "numbers = [2, 4, 6, 8, 10]\n",
    "search_for = 5\n",
    "\n",
    "for num in numbers:\n",
    "    if num == search_for:\n",
    "        print(f\"找到了 {search_for}\")\n",
    "        break\n",
    "else:\n",
    "    print(f\"没有找到 {search_for}\")"
   ]
  },
  {
   "cell_type": "code",
   "execution_count": null,
   "metadata": {},
   "outputs": [],
   "source": [
    "# while循环的else子句\n",
    "count = 0\n",
    "while count < 5:\n",
    "    print(f\"计数：{count}\")\n",
    "    count += 1\n",
    "else:\n",
    "    print(\"循环正常结束\")"
   ]
  },
  {
   "cell_type": "markdown",
   "metadata": {},
   "source": [
    "## 综合示例"
   ]
  },
  {
   "cell_type": "code",
   "execution_count": null,
   "metadata": {},
   "outputs": [],
   "source": [
    "# 综合应用：简单的学生成绩管理系统\n",
    "def student_grade_system():\n",
    "    students = []\n",
    "    \n",
    "    while True:\n",
    "        print(\"\\n=== 学生成绩管理系统 ===\")\n",
    "        print(\"1. 添加学生成绩\")\n",
    "        print(\"2. 查看所有学生\")\n",
    "        print(\"3. 统计成绩信息\")\n",
    "        print(\"4. 退出系统\")\n",
    "        \n",
    "        choice = input(\"请选择操作（1-4）：\")\n",
    "        \n",
    "        if choice == \"1\":\n",
    "            # 添加学生\n",
    "            name = input(\"请输入学生姓名：\")\n",
    "            while True:\n",
    "                try:\n",
    "                    score = float(input(\"请输入学生成绩：\"))\n",
    "                    if 0 <= score <= 100:\n",
    "                        break\n",
    "                    else:\n",
    "                        print(\"成绩必须在0-100之间！\")\n",
    "                except ValueError:\n",
    "                    print(\"请输入有效的数字！\")\n",
    "            \n",
    "            students.append({\"name\": name, \"score\": score})\n",
    "            print(f\"成功添加学生：{name}，成绩：{score}\")\n",
    "            \n",
    "        elif choice == \"2\":\n",
    "            # 查看所有学生\n",
    "            if not students:\n",
    "                print(\"还没有学生信息！\")\n",
    "                continue\n",
    "                \n",
    "            print(\"\\n所有学生成绩：\")\n",
    "            for i, student in enumerate(students, 1):\n",
    "                grade = \"优秀\" if student[\"score\"] >= 90 else \"良好\" if student[\"score\"] >= 80 else \"及格\" if student[\"score\"] >= 60 else \"不及格\"\n",
    "                print(f\"{i}. {student['name']}: {student['score']}分 ({grade})\")\n",
    "                \n",
    "        elif choice == \"3\":\n",
    "            # 统计信息\n",
    "            if not students:\n",
    "                print(\"还没有学生信息！\")\n",
    "                continue\n",
    "                \n",
    "            scores = [student[\"score\"] for student in students]\n",
    "            avg_score = sum(scores) / len(scores)\n",
    "            max_score = max(scores)\n",
    "            min_score = min(scores)\n",
    "            \n",
    "            print(f\"\\n成绩统计：\")\n",
    "            print(f\"平均分：{avg_score:.2f}\")\n",
    "            print(f\"最高分：{max_score}\")\n",
    "            print(f\"最低分：{min_score}\")\n",
    "            \n",
    "        elif choice == \"4\":\n",
    "            print(\"感谢使用，再见！\")\n",
    "            break\n",
    "            \n",
    "        else:\n",
    "            print(\"无效选择，请重新输入！\")\n",
    "\n",
    "# 运行系统\n",
    "student_grade_system()"
   ]
  },
  {
   "cell_type": "markdown",
   "metadata": {},
   "source": [
    "## 总结\n",
    "\n",
    "这些知识点是Python编程的基础，熟练掌握它们对于编写复杂的程序至关重要。建议多练习，理解每个概念的应用场景。"
   ]
  }
 ],
 "metadata": {
  "kernelspec": {
   "display_name": "Python 3 (ipykernel)",
   "language": "python",
   "name": "python3"
  },
  "language_info": {
   "codemirror_mode": {
    "name": "ipython",
    "version": 3
   },
   "file_extension": ".py",
   "mimetype": "text/x-python",
   "name": "python",
   "nbconvert_exporter": "python",
   "pygments_lexer": "ipython3",
   "version": "3.10.10"
  }
 },
 "nbformat": 4,
 "nbformat_minor": 4
}
