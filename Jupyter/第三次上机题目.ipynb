{
 "cells": [
  {
   "cell_type": "markdown",
   "id": "a9abeda0",
   "metadata": {},
   "source": [
    "#### **第一题：基础遍历与统计**\n",
    "**题目：** 创建一个包含10个整数的列表（例如：`[2, 5, 8, 3, 2, 9, 5, 2, 1, 8]`）。\n",
    "1.  使用 `for` 循环打印出列表中的所有元素。\n",
    "2.  计算并打印列表中所有元素的和。\n",
    "3.  找出并打印列表中的最大值和最小值（不能使用内置的 `max` 和 `min` 函数）。\n",
    "\n",
    "**考察点：** `for` 循环遍历列表，累加，条件判断。"
   ]
  },
  {
   "cell_type": "code",
   "execution_count": null,
   "id": "d131ccdd",
   "metadata": {},
   "outputs": [],
   "source": []
  },
  {
   "cell_type": "markdown",
   "id": "f916ff21",
   "metadata": {},
   "source": [
    "#### **第二题：列表筛选与创建**\n",
    "**题目：** 从第一题的列表中，创建一个新的列表，只包含原列表中大于5的数字。分别使用以下方法实现：\n",
    "1.  使用普通的 `for` 循环和 `append` 方法。\n",
    "\n",
    "**考察点：** 循环中的条件筛选，`append` 方法。"
   ]
  },
  {
   "cell_type": "code",
   "execution_count": null,
   "id": "6c791d7e",
   "metadata": {},
   "outputs": [],
   "source": []
  },
  {
   "cell_type": "markdown",
   "id": "16d0499a",
   "metadata": {},
   "source": [
    "#### **第三题：元素查找与循环控制**\n",
    "**题目：** 让用户输入一个数字。编写程序，在一个预定义的列表中查找这个数字。\n",
    "1.  如果找到了，打印出该数字第一次出现的位置（索引）。\n",
    "2.  如果列表中不存在该数字，则打印“未找到该数字”。\n",
    "3.  **进阶：** 使用 `for-else` 结构来实现。\n",
    "\n",
    "**考察点：** 遍历与条件判断，`break` 语句，`for-else` 结构。"
   ]
  },
  {
   "cell_type": "code",
   "execution_count": null,
   "id": "a0001605",
   "metadata": {},
   "outputs": [],
   "source": []
  },
  {
   "cell_type": "markdown",
   "id": "8c4ea98e",
   "metadata": {},
   "source": [
    "#### **第四题：模拟栈操作（后进先出）**\n",
    "**题目：** 模拟一个简单的栈结构。从一个空列表开始，循环进行以下操作，直到用户选择退出：\n",
    "1.  提示用户输入一个操作：`push`、`pop`、`view` 或 `quit`。\n",
    "2.  如果输入 `push`，再让用户输入一个要压入栈的数据，并将其添加到列表末尾。\n",
    "3.  如果输入 `pop`，从列表末尾移除一个元素并打印它。如果列表为空，则打印“栈是空的”。\n",
    "4.  如果输入 `view`，打印出当前栈（列表）中的所有元素。\n",
    "5.  如果输入 `quit`，退出循环。\n",
    "\n",
    "**考察点：** `while` 循环，列表的 `append` 和 `pop` 方法，用户交互。"
   ]
  },
  {
   "cell_type": "code",
   "execution_count": null,
   "id": "53e32cc5",
   "metadata": {},
   "outputs": [],
   "source": []
  },
  {
   "cell_type": "markdown",
   "id": "ec63c466",
   "metadata": {},
   "source": [
    "#### **第五题：列表数据处理与转换**\n",
    "**题目：** 创建一个包含学生成绩的列表，例如 `scores = [85, 92, 78, 90, 67, 88, 95]`。\n",
    "1.  计算并打印平均分。\n",
    "2.  将列表中的每个分数都加5分（模拟“老师加分”），生成一个新的列表。\n",
    "3.  将原列表中所有不及格的分数（<60）替换为“不及格”，生成另一个新列表。\n",
    "\n",
    "**考察点：** 列表遍历，算术运算，列表推导式或循环内修改/创建新列表。"
   ]
  },
  {
   "cell_type": "code",
   "execution_count": null,
   "id": "5f9264f5",
   "metadata": {},
   "outputs": [],
   "source": []
  },
  {
   "cell_type": "markdown",
   "id": "87f61248",
   "metadata": {},
   "source": [
    "#### **第六题：寻找列表交集**\n",
    "**题目：** 给定两个列表，例如 `list1 = [1, 2, 3, 4, 5, 6]` 和 `list2 = [4, 5, 6, 7, 8, 9]`。\n",
    "编写程序，找出两个列表中共同存在的元素，并将它们放入一个新列表中。最后打印这个新列表。\n",
    "**要求：** 不能使用集合（Set）。\n",
    "\n",
    "**考察点：** 嵌套循环，条件判断，列表去重（可选进阶）。"
   ]
  },
  {
   "cell_type": "code",
   "execution_count": null,
   "id": "152fbdc9",
   "metadata": {},
   "outputs": [],
   "source": []
  },
  {
   "cell_type": "markdown",
   "id": "2a74c911",
   "metadata": {},
   "source": [
    "\n",
    "#### **第七题：矩阵转置**\n",
    "**题目：** 使用一个嵌套列表来表示一个 3x4 的矩阵。\n",
    "```python\n",
    "matrix = [\n",
    "    [1, 2, 3, 4],\n",
    "    [5, 6, 7, 8],\n",
    "    [9, 10, 11, 12]\n",
    "]\n",
    "```\n",
    "编写程序，将其转置为一个 4x3 的矩阵。即原矩阵的行变成新矩阵的列，列变成行。\n",
    "**输出示例：**\n",
    "```\n",
    "[[1, 5, 9],\n",
    " [2, 6, 10],\n",
    " [3, 7, 11],\n",
    " [4, 8, 12]]\n",
    "```\n",
    "**提示：** 使用嵌套循环。\n",
    "\n",
    "**考察点：** 嵌套列表，复杂的循环逻辑。"
   ]
  },
  {
   "cell_type": "code",
   "execution_count": null,
   "id": "717f9ac3",
   "metadata": {},
   "outputs": [],
   "source": []
  },
  {
   "cell_type": "markdown",
   "id": "c798e213",
   "metadata": {},
   "source": [
    "#### **第八题：冒泡排序算法实现**\n",
    "**题目：** 实现冒泡排序算法对一个数字列表进行升序排序。\n",
    "**算法思路（讲解给学生）：**\n",
    "1.  比较相邻的元素。如果第一个比第二个大，就交换它们两个。\n",
    "2.  对每一对相邻元素作同样的工作，从开始第一对到结尾的最后一对。这步做完后，最后的元素会是最大的数。\n",
    "3.  针对所有的元素重复以上的步骤，除了最后一个。\n",
    "4.  持续每次对越来越少的元素重复上面的步骤，直到没有任何一对数字需要比较。\n",
    "\n",
    "**考察点：** 嵌套循环，列表元素交换，算法逻辑理解。"
   ]
  },
  {
   "cell_type": "code",
   "execution_count": null,
   "id": "ea37d0ef",
   "metadata": {},
   "outputs": [],
   "source": []
  },
  {
   "cell_type": "markdown",
   "id": "83f9203c",
   "metadata": {},
   "source": [
    "#### **第九题：杨辉三角**\n",
    "**题目：** 使用循环和列表，生成并打印前 N 行的杨辉三角（N由用户输入）。\n",
    "**示例 (N=5)：**\n",
    "```\n",
    "[1]\n",
    "[1, 1]\n",
    "[1, 2, 1]\n",
    "[1, 3, 3, 1]\n",
    "[1, 4, 6, 4, 1]\n",
    "```\n",
    "**提示：** 每一行的第一个和最后一个元素是1，中间的元素是上一行相邻两个元素之和。\n",
    "\n",
    "**考察点：** 复杂的列表操作与循环逻辑，对问题的分析与分解能力。"
   ]
  },
  {
   "cell_type": "code",
   "execution_count": null,
   "id": "df516982",
   "metadata": {},
   "outputs": [],
   "source": []
  },
  {
   "cell_type": "markdown",
   "id": "6cfa2a1f",
   "metadata": {},
   "source": [
    "\n",
    "#### **第十题：约瑟夫环问题**\n",
    "**题目：** N个人（编号为0到N-1）围成一圈。从编号为0的人开始报数（从1开始报），数到M的人出列，下一个人重新从1开始报数。如此循环，直到剩下最后一个人。求出这个人的编号。\n",
    "**示例：** 输入 `N=5, M=3`，出列顺序应是 `2, 0, 4, 1`，最后剩下的是编号 `3`。\n",
    "**要求：** 使用列表来模拟这个过程。\n",
    "\n",
    "**考察点：** 循环的复杂应用，列表的动态修改（`pop`），取模运算 `%` 的运用。"
   ]
  },
  {
   "cell_type": "code",
   "execution_count": null,
   "id": "e75ba4ef",
   "metadata": {},
   "outputs": [],
   "source": []
  }
 ],
 "metadata": {
  "kernelspec": {
   "display_name": "pytorch",
   "language": "python",
   "name": "python3"
  },
  "language_info": {
   "codemirror_mode": {
    "name": "ipython",
    "version": 3
   },
   "file_extension": ".py",
   "mimetype": "text/x-python",
   "name": "python",
   "nbconvert_exporter": "python",
   "pygments_lexer": "ipython3",
   "version": "3.13.5"
  }
 },
 "nbformat": 4,
 "nbformat_minor": 5
}
